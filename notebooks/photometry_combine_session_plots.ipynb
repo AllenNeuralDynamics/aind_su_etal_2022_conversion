{
 "cells": [
  {
   "cell_type": "code",
   "execution_count": 1,
   "metadata": {},
   "outputs": [],
   "source": [
    "import os\n",
    "import sys\n",
    "from pathlib import Path\n",
    "sys.path.append('..') \n",
    "from PyPDF2 import PdfMerger\n",
    "from utils.behavior.session_utils import load_session_df, parse_session_string\n",
    "from utils.basics.data_org import *\n",
    "import fitz\n",
    "import time"
   ]
  },
  {
   "cell_type": "code",
   "execution_count": null,
   "metadata": {},
   "outputs": [],
   "source": [
    "# from PyPDF2 import PdfMerger, PdfReader\n",
    "\n",
    "# def add_title_to_page(page, title):\n",
    "#     packet = io.BytesIO()\n",
    "#     can = canvas.Canvas(packet, pagesize=letter)\n",
    "#     can.drawString(30, 750, title)  # Adjust coordinates as needed\n",
    "#     can.save()\n",
    "#     packet.seek(0)\n",
    "#     title_page = PdfReader(packet).pages[0]\n",
    "#     page.merge_page(title_page)\n",
    "#     return page"
   ]
  },
  {
   "cell_type": "code",
   "execution_count": 6,
   "metadata": {},
   "outputs": [],
   "source": [
    "def merge_sesssion_pdf(session_list, output, prefix = '', postfix = '', strings = [''], add_title = False):\n",
    "    merger = PdfMerger()\n",
    "    modified_pdfs = []\n",
    "    temp_folder = os.path.join(os.path.dirname(output), 'pdf_tmp')\n",
    "    if not os.path.exists(temp_folder):\n",
    "        os.makedirs(temp_folder, exist_ok=True)\n",
    "    for session in session_list:\n",
    "        session_dir = parse_session_string(session)\n",
    "        curr_files = [os.path.join(session_dir['saveFigFolder'], file) for file in os.listdir(session_dir['saveFigFolder']) if file.endswith(postfix) and file.startswith(prefix) and all(s in file for s in strings)]\n",
    "        if len(curr_files)>1:\n",
    "            strings.append(session)\n",
    "            curr_files = [os.path.join(session_dir['saveFigFolder'], file) for file in os.listdir(session_dir['saveFigFolder']) if file.endswith(postfix) and file.startswith(prefix) and all(s in file for s in strings)]\n",
    "        \n",
    "        if len(curr_files)!=1:\n",
    "            print(f'{session} {len(curr_files)}')\n",
    "\n",
    "        for file_ind, curr_file in enumerate(curr_files):\n",
    "            if add_title:\n",
    "                doc = fitz.open(curr_file)\n",
    "                first_page = doc[0]\n",
    "                first_page.insert_text((10, 10), session, fontsize=10, color=(0, 0, 0), fontname=\"helv\")\n",
    "                modified_pdf = os.path.join(temp_folder, f'{session}_modified_{file_ind}.pdf')\n",
    "                doc.save(modified_pdf) \n",
    "                modified_pdfs.append(modified_pdf) \n",
    "                merger.append(modified_pdf)        \n",
    "            else:\n",
    "                merger.append(curr_file)\n",
    "    \n",
    "    merger.write(output)\n",
    "    merger.close()\n",
    "    time.sleep(2)\n",
    "    shutil.rmtree(temp_folder)\n",
    "    \n"
   ]
  },
  {
   "cell_type": "code",
   "execution_count": 3,
   "metadata": {},
   "outputs": [],
   "source": [
    "session_list = get_session_list('photometry', 'all', 'crusIgood') + get_session_list('photometry_Gi', 'all', 'Gi_G8')"
   ]
  },
  {
   "cell_type": "code",
   "execution_count": 11,
   "metadata": {},
   "outputs": [],
   "source": [
    "# preprocessing\n",
    "merge_sesssion_pdf(session_list, r'F:\\FP_tri-exp_prep.pdf', postfix = '_tri-exp_FP.pdf')"
   ]
  },
  {
   "cell_type": "code",
   "execution_count": 12,
   "metadata": {},
   "outputs": [],
   "source": [
    "merge_sesssion_pdf(session_list, r'F:\\FP_exp_prep.pdf', postfix = '_exp_FP.pdf')"
   ]
  },
  {
   "cell_type": "code",
   "execution_count": 13,
   "metadata": {},
   "outputs": [],
   "source": [
    "merge_sesssion_pdf(session_list, r'F:\\FP_bright_prep.pdf', postfix = '_bright_FP.pdf')"
   ]
  },
  {
   "cell_type": "code",
   "execution_count": 7,
   "metadata": {},
   "outputs": [],
   "source": [
    "# compare G and Iso raw trace\n",
    "merge_sesssion_pdf(session_list, r'F:\\G_vs_Iso_raw_trace.pdf', postfix = '_G_vs_Iso.pdf', add_title=True)"
   ]
  }
 ],
 "metadata": {
  "kernelspec": {
   "display_name": "playGround",
   "language": "python",
   "name": "python3"
  },
  "language_info": {
   "codemirror_mode": {
    "name": "ipython",
    "version": 3
   },
   "file_extension": ".py",
   "mimetype": "text/x-python",
   "name": "python",
   "nbconvert_exporter": "python",
   "pygments_lexer": "ipython3",
   "version": "3.10.0"
  }
 },
 "nbformat": 4,
 "nbformat_minor": 2
}
