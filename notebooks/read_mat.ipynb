{
 "cells": [
  {
   "cell_type": "code",
   "execution_count": 2,
   "metadata": {},
   "outputs": [],
   "source": [
    "import numpy as np\n",
    "import pandas as pd\n",
    "import sys\n",
    "from pathlib import Path\n",
    "sys.path.append('..') \n",
    "import platform\n",
    "import os\n",
    "from pathlib import Path\n",
    "import shutil\n",
    "from pathlib import Path\n",
    "import shutil\n",
    "from utils.behavior.session_utils import load_session_df, parse_session_string\n",
    "from utils.behavior.lick_analysis import clean_up_licks, parse_lick_trains\n",
    "from scipy.io import loadmat\n",
    "from itertools import chain\n",
    "from matplotlib import pyplot as plt\n",
    "from IPython.display import display\n",
    "from scipy.signal import find_peaks\n",
    "from harp.clock import align_timestamps_to_anchor_points\n",
    "from utils.basics.data_org import *\n",
    "from utils.photometry.preprocessing import * \n",
    "from utils.photometry.plot_utils import align_signal_to_events, color_gradient, plot_FP_with_licks, plot_G_vs_Iso, plot_FP_beh_analysis\n",
    "import numpy as np\n",
    "from scipy.signal import butter, filtfilt, medfilt, sosfiltfilt\n",
    "from scipy.optimize import curve_fit\n",
    "import json\n",
    "from sklearn.linear_model import LinearRegression\n",
    "from matplotlib.gridspec import GridSpec\n",
    "import pickle\n",
    "from aind_fip_dff.utils.preprocess import batch_processing, tc_triexpfit\n",
    "from joblib import Parallel, delayed\n",
    "import matplotlib.pyplot as plt\n",
    "import time\n",
    "from contextlib import redirect_stdout\n",
    "# %matplotlib inline\n",
    "# %matplotlib widget"
   ]
  },
  {
   "cell_type": "code",
   "execution_count": null,
   "metadata": {},
   "outputs": [],
   "source": [
    "# FP data\n",
    "session = 'm743986d20241227'\n",
    "session_dir = parse_session_string(session)\n",
    "session_df, licks_L, licks_R = load_session_df(session)\n",
    "signal, params = get_FP_data(session)"
   ]
  },
  {
   "cell_type": "code",
   "execution_count": null,
   "metadata": {},
   "outputs": [],
   "source": [
    "# ephys data\n",
    "session = 'mZS061d20210405'\n",
    "session_dir = parse_session_string(session)\n",
    "session_df, licks_L, licks_R = load_session_df(session)\n",
    "ephys_file = os.path.join(session_dir['sortedFolder'], f\"{session}_opto_units.pkl\")\n",
    "with open(ephys_file, 'rb') as f:\n",
    "    ephys_data = pickle.load(f)"
   ]
  }
 ],
 "metadata": {
  "kernelspec": {
   "display_name": "playGround",
   "language": "python",
   "name": "python3"
  },
  "language_info": {
   "codemirror_mode": {
    "name": "ipython",
    "version": 3
   },
   "file_extension": ".py",
   "mimetype": "text/x-python",
   "name": "python",
   "nbconvert_exporter": "python",
   "pygments_lexer": "ipython3",
   "version": "3.10.0"
  }
 },
 "nbformat": 4,
 "nbformat_minor": 2
}
